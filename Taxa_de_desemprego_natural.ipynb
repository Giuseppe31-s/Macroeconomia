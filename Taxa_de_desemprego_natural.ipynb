{
  "nbformat": 4,
  "nbformat_minor": 0,
  "metadata": {
    "colab": {
      "name": "Taxa de desemprego natural",
      "provenance": [],
      "authorship_tag": "ABX9TyMKBXcCasa6524StL6DoLIo",
      "include_colab_link": true
    },
    "kernelspec": {
      "name": "python3",
      "display_name": "Python 3"
    },
    "language_info": {
      "name": "python"
    }
  },
  "cells": [
    {
      "cell_type": "markdown",
      "metadata": {
        "id": "view-in-github",
        "colab_type": "text"
      },
      "source": [
        "<a href=\"https://colab.research.google.com/github/Giuseppe31-s/Macroeconomia/blob/main/Taxa_de_desemprego_natural.ipynb\" target=\"_parent\"><img src=\"https://colab.research.google.com/assets/colab-badge.svg\" alt=\"Open In Colab\"/></a>"
      ]
    },
    {
      "cell_type": "markdown",
      "metadata": {
        "id": "QFeYQ4zkTgRY"
      },
      "source": [
        "# Calculando taxa de desemprego natural\n",
        "\n"
      ]
    },
    {
      "cell_type": "code",
      "metadata": {
        "id": "nmZR9MegOhRe"
      },
      "source": [
        "#importando bibliotecas\n",
        "import pandas as pd\n",
        "import matplotlib.pyplot as plt\n",
        "import seaborn as sns\n",
        "import numpy as np"
      ],
      "execution_count": 1,
      "outputs": []
    },
    {
      "cell_type": "markdown",
      "metadata": {
        "id": "q65qD9QvmE4y"
      },
      "source": [
        "###Entendendo os dados.\n",
        "\n",
        "Para calcular a taxa natural de desemprego é preciso entender o que ela é. Por definição, a taxa natural de desemprego é a taxa de desemprego em que o nível de preço efetivo é igual ao nível esperado dos preços. A taxa natural de desemprego é a taxa de desemprego em que a taxa de inflação efetiva é igual à taxa de  inflação esperada. Logo vamos usar o IPCA-15.\n",
        " \n",
        "Importando taxa de desocupação apenas para fins comparativos "
      ]
    },
    {
      "cell_type": "code",
      "metadata": {
        "id": "WscZwFwbPYWn"
      },
      "source": [
        "#importando dados\n",
        "url = 'https://raw.githubusercontent.com/Giuseppe31-s/Macroeconomia/main/dados/ipca-15_2018_2021.csv'\n",
        "ipca_15 = pd.read_csv(url,decimal = ',',sep = ';')\n",
        "url1 = 'https://raw.githubusercontent.com/Giuseppe31-s/Macroeconomia/main/dados/taxa_desocupa%C3%A7%C3%A3o.csv'\n",
        "taxa_desocupação = pd.read_csv(url1,sep =';',decimal = ',')"
      ],
      "execution_count": 2,
      "outputs": []
    },
    {
      "cell_type": "code",
      "metadata": {
        "colab": {
          "base_uri": "https://localhost:8080/",
          "height": 206
        },
        "id": "BwY48adbTjfG",
        "outputId": "637721b7-2784-4f80-cc34-37f0840a5440"
      },
      "source": [
        "#adicionando data aos nossos dados\n",
        "ipca_15['data'] = pd.date_range(start = '01/01/2018', periods=len(ipca_15), freq='M')\n",
        "ipca_15= ipca_15[['data','IPCA-15']]\n",
        "ipca_15.head()"
      ],
      "execution_count": 3,
      "outputs": [
        {
          "output_type": "execute_result",
          "data": {
            "text/html": [
              "<div>\n",
              "<style scoped>\n",
              "    .dataframe tbody tr th:only-of-type {\n",
              "        vertical-align: middle;\n",
              "    }\n",
              "\n",
              "    .dataframe tbody tr th {\n",
              "        vertical-align: top;\n",
              "    }\n",
              "\n",
              "    .dataframe thead th {\n",
              "        text-align: right;\n",
              "    }\n",
              "</style>\n",
              "<table border=\"1\" class=\"dataframe\">\n",
              "  <thead>\n",
              "    <tr style=\"text-align: right;\">\n",
              "      <th></th>\n",
              "      <th>data</th>\n",
              "      <th>IPCA-15</th>\n",
              "    </tr>\n",
              "  </thead>\n",
              "  <tbody>\n",
              "    <tr>\n",
              "      <th>0</th>\n",
              "      <td>2018-01-31</td>\n",
              "      <td>3.02</td>\n",
              "    </tr>\n",
              "    <tr>\n",
              "      <th>1</th>\n",
              "      <td>2018-02-28</td>\n",
              "      <td>2.86</td>\n",
              "    </tr>\n",
              "    <tr>\n",
              "      <th>2</th>\n",
              "      <td>2018-03-31</td>\n",
              "      <td>2.80</td>\n",
              "    </tr>\n",
              "    <tr>\n",
              "      <th>3</th>\n",
              "      <td>2018-04-30</td>\n",
              "      <td>2.80</td>\n",
              "    </tr>\n",
              "    <tr>\n",
              "      <th>4</th>\n",
              "      <td>2018-05-31</td>\n",
              "      <td>2.70</td>\n",
              "    </tr>\n",
              "  </tbody>\n",
              "</table>\n",
              "</div>"
            ],
            "text/plain": [
              "        data  IPCA-15\n",
              "0 2018-01-31     3.02\n",
              "1 2018-02-28     2.86\n",
              "2 2018-03-31     2.80\n",
              "3 2018-04-30     2.80\n",
              "4 2018-05-31     2.70"
            ]
          },
          "metadata": {
            "tags": []
          },
          "execution_count": 3
        }
      ]
    },
    {
      "cell_type": "code",
      "metadata": {
        "colab": {
          "base_uri": "https://localhost:8080/",
          "height": 206
        },
        "id": "pm8Sa_ujT_zy",
        "outputId": "5d5c0086-6dd6-4c99-80b9-83f89fbfa6af"
      },
      "source": [
        "# modificando dados\n",
        "taxa_desocupação['data'] = pd.date_range(start = '03/01/2020', periods=len(taxa_desocupação), freq='M')\n",
        "taxa_desocupação.head()\n",
        "taxa_desocupação= taxa_desocupação[['data','Taxa de desocupação em %']]\n",
        "taxa_desocupação.rename(columns={'Taxa de desocupação em %':'taxa desocupação %'},inplace = True)\n",
        "taxa_desocupação.head()"
      ],
      "execution_count": 4,
      "outputs": [
        {
          "output_type": "execute_result",
          "data": {
            "text/html": [
              "<div>\n",
              "<style scoped>\n",
              "    .dataframe tbody tr th:only-of-type {\n",
              "        vertical-align: middle;\n",
              "    }\n",
              "\n",
              "    .dataframe tbody tr th {\n",
              "        vertical-align: top;\n",
              "    }\n",
              "\n",
              "    .dataframe thead th {\n",
              "        text-align: right;\n",
              "    }\n",
              "</style>\n",
              "<table border=\"1\" class=\"dataframe\">\n",
              "  <thead>\n",
              "    <tr style=\"text-align: right;\">\n",
              "      <th></th>\n",
              "      <th>data</th>\n",
              "      <th>taxa desocupação %</th>\n",
              "    </tr>\n",
              "  </thead>\n",
              "  <tbody>\n",
              "    <tr>\n",
              "      <th>0</th>\n",
              "      <td>2020-03-31</td>\n",
              "      <td>12.2</td>\n",
              "    </tr>\n",
              "    <tr>\n",
              "      <th>1</th>\n",
              "      <td>2020-04-30</td>\n",
              "      <td>12.6</td>\n",
              "    </tr>\n",
              "    <tr>\n",
              "      <th>2</th>\n",
              "      <td>2020-05-31</td>\n",
              "      <td>12.9</td>\n",
              "    </tr>\n",
              "    <tr>\n",
              "      <th>3</th>\n",
              "      <td>2020-06-30</td>\n",
              "      <td>13.3</td>\n",
              "    </tr>\n",
              "    <tr>\n",
              "      <th>4</th>\n",
              "      <td>2020-07-31</td>\n",
              "      <td>13.8</td>\n",
              "    </tr>\n",
              "  </tbody>\n",
              "</table>\n",
              "</div>"
            ],
            "text/plain": [
              "        data  taxa desocupação %\n",
              "0 2020-03-31                12.2\n",
              "1 2020-04-30                12.6\n",
              "2 2020-05-31                12.9\n",
              "3 2020-06-30                13.3\n",
              "4 2020-07-31                13.8"
            ]
          },
          "metadata": {
            "tags": []
          },
          "execution_count": 4
        }
      ]
    },
    {
      "cell_type": "markdown",
      "metadata": {
        "id": "z6SDtDa3oiN7"
      },
      "source": [
        "resolvendo taxa natural $U _{n}$:\n",
        "\n",
        "$U_{u} = \\frac{m+z}{\\alpha } \n",
        "$\n",
        "\n",
        "quanto maior a margem ,m , ou quanto maiores os fatores que afetam a fixação dos salários, z, mais alta será a taxa natural de desemprego.\n",
        "\n",
        "$\\pi _{t}-\\pi _{t}^{e} = -\\alpha  (U_{n} - \\frac{m+z}{\\alpha})$\n",
        "\n",
        "$\\pi _{t}-\\pi _{t}^{e} = -\\alpha(U_{t}-U_{n})$\n",
        "\n",
        "**Aqui entra a parte fundamental deste tópico**\n",
        "\n",
        "a taxa de inflação esperada $\\pi _{t}^{e}$ pode ser aproximada a taxa de inflação do ano anterior:\n",
        "\n",
        "***$ \\pi _{t}-\\pi _{t-1} = -\\alpha(U_{t}-U_{n})$***\n",
        "\n",
        "A taxa natural de desemprego é a taxa de desemprego necessária para manter a taxa de inflação constante \n",
        "\n",
        "\n",
        "\n",
        "\n",
        "\n",
        "\n"
      ]
    },
    {
      "cell_type": "code",
      "metadata": {
        "id": "tozIozVUZEYK",
        "colab": {
          "base_uri": "https://localhost:8080/",
          "height": 206
        },
        "outputId": "fcee44fd-fa23-437c-a902-490d83079b3a"
      },
      "source": [
        "# separando ano anterior\n",
        "a_2019 = ipca_15.iloc[14:24,1]\n",
        "a_2019 = a_2019.reset_index()\n",
        "del a_2019['index']\n",
        "a_2019.head()\n"
      ],
      "execution_count": 5,
      "outputs": [
        {
          "output_type": "execute_result",
          "data": {
            "text/html": [
              "<div>\n",
              "<style scoped>\n",
              "    .dataframe tbody tr th:only-of-type {\n",
              "        vertical-align: middle;\n",
              "    }\n",
              "\n",
              "    .dataframe tbody tr th {\n",
              "        vertical-align: top;\n",
              "    }\n",
              "\n",
              "    .dataframe thead th {\n",
              "        text-align: right;\n",
              "    }\n",
              "</style>\n",
              "<table border=\"1\" class=\"dataframe\">\n",
              "  <thead>\n",
              "    <tr style=\"text-align: right;\">\n",
              "      <th></th>\n",
              "      <th>IPCA-15</th>\n",
              "    </tr>\n",
              "  </thead>\n",
              "  <tbody>\n",
              "    <tr>\n",
              "      <th>0</th>\n",
              "      <td>4.18</td>\n",
              "    </tr>\n",
              "    <tr>\n",
              "      <th>1</th>\n",
              "      <td>4.71</td>\n",
              "    </tr>\n",
              "    <tr>\n",
              "      <th>2</th>\n",
              "      <td>4.93</td>\n",
              "    </tr>\n",
              "    <tr>\n",
              "      <th>3</th>\n",
              "      <td>3.84</td>\n",
              "    </tr>\n",
              "    <tr>\n",
              "      <th>4</th>\n",
              "      <td>3.27</td>\n",
              "    </tr>\n",
              "  </tbody>\n",
              "</table>\n",
              "</div>"
            ],
            "text/plain": [
              "   IPCA-15\n",
              "0     4.18\n",
              "1     4.71\n",
              "2     4.93\n",
              "3     3.84\n",
              "4     3.27"
            ]
          },
          "metadata": {
            "tags": []
          },
          "execution_count": 5
        }
      ]
    },
    {
      "cell_type": "code",
      "metadata": {
        "colab": {
          "base_uri": "https://localhost:8080/",
          "height": 206
        },
        "id": "es3sFwdRbtSU",
        "outputId": "27d02269-a189-4edb-f522-61a9b690158c"
      },
      "source": [
        "#sepando ipca\n",
        "b_2020 = ipca_15.iloc[26:36,1]\n",
        "b_2020 = b_2020.reset_index()\n",
        "del b_2020['index']\n",
        "b_2020.head()\n",
        "\n"
      ],
      "execution_count": 6,
      "outputs": [
        {
          "output_type": "execute_result",
          "data": {
            "text/html": [
              "<div>\n",
              "<style scoped>\n",
              "    .dataframe tbody tr th:only-of-type {\n",
              "        vertical-align: middle;\n",
              "    }\n",
              "\n",
              "    .dataframe tbody tr th {\n",
              "        vertical-align: top;\n",
              "    }\n",
              "\n",
              "    .dataframe thead th {\n",
              "        text-align: right;\n",
              "    }\n",
              "</style>\n",
              "<table border=\"1\" class=\"dataframe\">\n",
              "  <thead>\n",
              "    <tr style=\"text-align: right;\">\n",
              "      <th></th>\n",
              "      <th>IPCA-15</th>\n",
              "    </tr>\n",
              "  </thead>\n",
              "  <tbody>\n",
              "    <tr>\n",
              "      <th>0</th>\n",
              "      <td>3.67</td>\n",
              "    </tr>\n",
              "    <tr>\n",
              "      <th>1</th>\n",
              "      <td>2.92</td>\n",
              "    </tr>\n",
              "    <tr>\n",
              "      <th>2</th>\n",
              "      <td>1.96</td>\n",
              "    </tr>\n",
              "    <tr>\n",
              "      <th>3</th>\n",
              "      <td>1.92</td>\n",
              "    </tr>\n",
              "    <tr>\n",
              "      <th>4</th>\n",
              "      <td>2.13</td>\n",
              "    </tr>\n",
              "  </tbody>\n",
              "</table>\n",
              "</div>"
            ],
            "text/plain": [
              "   IPCA-15\n",
              "0     3.67\n",
              "1     2.92\n",
              "2     1.96\n",
              "3     1.92\n",
              "4     2.13"
            ]
          },
          "metadata": {
            "tags": []
          },
          "execution_count": 6
        }
      ]
    },
    {
      "cell_type": "code",
      "metadata": {
        "id": "IMQKg14WbMYu"
      },
      "source": [
        "#calculando a variação\n",
        "taxa_Desemprego_natural =b_2020/a_2019"
      ],
      "execution_count": 7,
      "outputs": []
    },
    {
      "cell_type": "code",
      "metadata": {
        "colab": {
          "base_uri": "https://localhost:8080/",
          "height": 206
        },
        "id": "3yV3QMISg9aM",
        "outputId": "7e9a0116-e36e-4f60-b848-0688fe2ba5ea"
      },
      "source": [
        "taxa_Desemprego_natural.head()"
      ],
      "execution_count": 8,
      "outputs": [
        {
          "output_type": "execute_result",
          "data": {
            "text/html": [
              "<div>\n",
              "<style scoped>\n",
              "    .dataframe tbody tr th:only-of-type {\n",
              "        vertical-align: middle;\n",
              "    }\n",
              "\n",
              "    .dataframe tbody tr th {\n",
              "        vertical-align: top;\n",
              "    }\n",
              "\n",
              "    .dataframe thead th {\n",
              "        text-align: right;\n",
              "    }\n",
              "</style>\n",
              "<table border=\"1\" class=\"dataframe\">\n",
              "  <thead>\n",
              "    <tr style=\"text-align: right;\">\n",
              "      <th></th>\n",
              "      <th>IPCA-15</th>\n",
              "    </tr>\n",
              "  </thead>\n",
              "  <tbody>\n",
              "    <tr>\n",
              "      <th>0</th>\n",
              "      <td>0.877990</td>\n",
              "    </tr>\n",
              "    <tr>\n",
              "      <th>1</th>\n",
              "      <td>0.619958</td>\n",
              "    </tr>\n",
              "    <tr>\n",
              "      <th>2</th>\n",
              "      <td>0.397566</td>\n",
              "    </tr>\n",
              "    <tr>\n",
              "      <th>3</th>\n",
              "      <td>0.500000</td>\n",
              "    </tr>\n",
              "    <tr>\n",
              "      <th>4</th>\n",
              "      <td>0.651376</td>\n",
              "    </tr>\n",
              "  </tbody>\n",
              "</table>\n",
              "</div>"
            ],
            "text/plain": [
              "    IPCA-15\n",
              "0  0.877990\n",
              "1  0.619958\n",
              "2  0.397566\n",
              "3  0.500000\n",
              "4  0.651376"
            ]
          },
          "metadata": {
            "tags": []
          },
          "execution_count": 8
        }
      ]
    },
    {
      "cell_type": "code",
      "metadata": {
        "colab": {
          "base_uri": "https://localhost:8080/",
          "height": 505
        },
        "id": "z1yo-zi7jJVb",
        "outputId": "833bc677-62a6-46f0-b62c-18e902793db0"
      },
      "source": [
        "# gráfico\n",
        "sns.set_theme(context='notebook')\n",
        "plt.figure(figsize=(12,8))\n",
        "plt.plot(taxa_desocupação['data'],taxa_desocupação['taxa desocupação %'], label = 'Taxa de desemprego' )\n",
        "plt.plot(taxa_desocupação['data'],taxa_Desemprego_natural['IPCA-15'], label = 'Taxa natural de desemprego')\n",
        "plt.ylabel('taxa em %', fontdict = {'fontsize':18})\n",
        "plt.title('Taxa natural de desemprego e taxa de desemprego', fontdict={'fontsize':18,'fontweight':'bold'})\n",
        "plt.legend();"
      ],
      "execution_count": 9,
      "outputs": [
        {
          "output_type": "display_data",
          "data": {
            "image/png": "[encoded data removed]",
            "text/plain": [
              "<Figure size 864x576 with 1 Axes>"
            ]
          },
          "metadata": {
            "tags": []
          }
        }
      ]
    },
    {
      "cell_type": "code",
      "metadata": {
        "id": "6iwKNK2yk3ZW"
      },
      "source": [
        ""
      ],
      "execution_count": 9,
      "outputs": []
    }
  ]
}